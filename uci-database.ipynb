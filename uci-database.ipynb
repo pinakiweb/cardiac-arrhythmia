{
 "cells": [
  {
   "cell_type": "code",
   "execution_count": 1,
   "metadata": {},
   "outputs": [
    {
     "name": "stderr",
     "output_type": "stream",
     "text": [
      "/home/sabu/anaconda3/lib/python3.6/site-packages/sklearn/ensemble/weight_boosting.py:29: DeprecationWarning: numpy.core.umath_tests is an internal NumPy module and should not be imported. It will be removed in a future NumPy release.\n",
      "  from numpy.core.umath_tests import inner1d\n",
      "/home/sabu/anaconda3/lib/python3.6/site-packages/sklearn/cross_validation.py:41: DeprecationWarning: This module was deprecated in version 0.18 in favor of the model_selection module into which all the refactored classes and functions are moved. Also note that the interface of the new CV iterators are different from that of this module. This module will be removed in 0.20.\n",
      "  \"This module will be removed in 0.20.\", DeprecationWarning)\n"
     ]
    }
   ],
   "source": [
    "import pandas as pd\n",
    "import cv2\n",
    "import numpy as np\n",
    "from sklearn.ensemble import RandomForestClassifier\n",
    "import matplotlib.pyplot as plt\n",
    "from sklearn import cross_validation\n",
    "from sklearn.decomposition import PCA\n",
    "import matplotlib.pyplot as plt\n",
    "import biosppy"
   ]
  },
  {
   "cell_type": "code",
   "execution_count": 16,
   "metadata": {},
   "outputs": [],
   "source": [
    "from sklearn.model_selection import train_test_split\n",
    "from sklearn.neighbors import KNeighborsClassifier\n",
    "from sklearn.model_selection import cross_val_score\n",
    "from sklearn.preprocessing import StandardScaler\n",
    "from sklearn.model_selection import GridSearchCV\n",
    "from sklearn.preprocessing import OneHotEncoder"
   ]
  },
  {
   "cell_type": "code",
   "execution_count": 2,
   "metadata": {},
   "outputs": [
    {
     "name": "stderr",
     "output_type": "stream",
     "text": [
      "Using TensorFlow backend.\n"
     ]
    }
   ],
   "source": [
    "from tensorflow import keras\n",
    "import tensorflow as tf\n",
    "from tensorflow.keras.models import Sequential\n",
    "from tensorflow.keras.layers import Dense, Conv2D, Activation, Flatten, MaxPooling2D, Dropout\n",
    "from keras.layers.advanced_activations import LeakyReLU"
   ]
  },
  {
   "cell_type": "code",
   "execution_count": 3,
   "metadata": {},
   "outputs": [
    {
     "data": {
      "text/plain": [
       "(452, 280)"
      ]
     },
     "execution_count": 3,
     "metadata": {},
     "output_type": "execute_result"
    }
   ],
   "source": [
    "data = pd.read_csv('arrhythmia.csv',header=None,na_values=['?'])\n",
    "data.shape"
   ]
  },
  {
   "cell_type": "code",
   "execution_count": 4,
   "metadata": {},
   "outputs": [
    {
     "name": "stdout",
     "output_type": "stream",
     "text": [
      "\n",
      "Missing values per column:\n",
      "0        0\n",
      "1        0\n",
      "2        0\n",
      "3        0\n",
      "4        0\n",
      "5        0\n",
      "6        0\n",
      "7        0\n",
      "8        0\n",
      "9        0\n",
      "10       8\n",
      "11      22\n",
      "12       1\n",
      "13     376\n",
      "14       1\n",
      "15       0\n",
      "16       0\n",
      "17       0\n",
      "18       0\n",
      "19       0\n",
      "20       0\n",
      "21       0\n",
      "22       0\n",
      "23       0\n",
      "24       0\n",
      "25       0\n",
      "26       0\n",
      "27       0\n",
      "28       0\n",
      "29       0\n",
      "      ... \n",
      "250      0\n",
      "251      0\n",
      "252      0\n",
      "253      0\n",
      "254      0\n",
      "255      0\n",
      "256      0\n",
      "257      0\n",
      "258      0\n",
      "259      0\n",
      "260      0\n",
      "261      0\n",
      "262      0\n",
      "263      0\n",
      "264      0\n",
      "265      0\n",
      "266      0\n",
      "267      0\n",
      "268      0\n",
      "269      0\n",
      "270      0\n",
      "271      0\n",
      "272      0\n",
      "273      0\n",
      "274      0\n",
      "275      0\n",
      "276      0\n",
      "277      0\n",
      "278      0\n",
      "279      0\n",
      "Length: 280, dtype: int64\n"
     ]
    }
   ],
   "source": [
    "def num_missing(x):\n",
    "    return sum(x.isnull())\n",
    "\n",
    "#Applying per column:\n",
    "print(\"\\nMissing values per column:\")\n",
    "print(data.apply(num_missing, axis=0))"
   ]
  },
  {
   "cell_type": "code",
   "execution_count": 5,
   "metadata": {},
   "outputs": [],
   "source": [
    "data.dropna(axis=1,how ='any',inplace = True)"
   ]
  },
  {
   "cell_type": "code",
   "execution_count": 6,
   "metadata": {},
   "outputs": [
    {
     "data": {
      "text/plain": [
       "(452, 275)"
      ]
     },
     "execution_count": 6,
     "metadata": {},
     "output_type": "execute_result"
    }
   ],
   "source": [
    "data.shape"
   ]
  },
  {
   "cell_type": "code",
   "execution_count": 7,
   "metadata": {},
   "outputs": [],
   "source": [
    "cols = list(data)\n",
    "nunique = data.apply(pd.Series.nunique)\n",
    "cols_to_drop = nunique[nunique == 1].index\n",
    "data.drop(cols_to_drop, axis=1,inplace = True)"
   ]
  },
  {
   "cell_type": "code",
   "execution_count": 8,
   "metadata": {},
   "outputs": [
    {
     "data": {
      "text/plain": [
       "(452, 258)"
      ]
     },
     "execution_count": 8,
     "metadata": {},
     "output_type": "execute_result"
    }
   ],
   "source": [
    "data.shape"
   ]
  },
  {
   "cell_type": "code",
   "execution_count": 9,
   "metadata": {},
   "outputs": [],
   "source": [
    "X = data.iloc[:,0:256]\n",
    "Y = data.iloc[:,257]"
   ]
  },
  {
   "cell_type": "code",
   "execution_count": 10,
   "metadata": {},
   "outputs": [],
   "source": [
    "Y1=list(Y)\n",
    "Y1=np.array(Y1)\n",
    "Y1=Y1.astype(np.int)"
   ]
  },
  {
   "cell_type": "code",
   "execution_count": 11,
   "metadata": {},
   "outputs": [
    {
     "data": {
      "text/plain": [
       "(452,)"
      ]
     },
     "execution_count": 11,
     "metadata": {},
     "output_type": "execute_result"
    }
   ],
   "source": [
    "Y1.shape"
   ]
  },
  {
   "cell_type": "code",
   "execution_count": 12,
   "metadata": {},
   "outputs": [],
   "source": [
    "X1=X.values\n",
    "Y1=Y.values"
   ]
  },
  {
   "cell_type": "code",
   "execution_count": 13,
   "metadata": {},
   "outputs": [],
   "source": [
    "pca = PCA(n_components=255)\n",
    "pca.fit(X)\n",
    "x_features = pca.transform(X)"
   ]
  },
  {
   "cell_type": "code",
   "execution_count": 14,
   "metadata": {},
   "outputs": [
    {
     "data": {
      "text/plain": [
       "(452, 255)"
      ]
     },
     "execution_count": 14,
     "metadata": {},
     "output_type": "execute_result"
    }
   ],
   "source": [
    "x_features.shape"
   ]
  },
  {
   "cell_type": "code",
   "execution_count": 17,
   "metadata": {},
   "outputs": [
    {
     "data": {
      "text/plain": [
       "(23, 255)"
      ]
     },
     "execution_count": 17,
     "metadata": {},
     "output_type": "execute_result"
    }
   ],
   "source": [
    "X_train, X_test, Y_train, Y_test= train_test_split(x_features,Y1,test_size=0.05, random_state=0)\n",
    "X_test.shape"
   ]
  },
  {
   "cell_type": "code",
   "execution_count": 19,
   "metadata": {},
   "outputs": [],
   "source": [
    "Y_train = Y_train.reshape(-1,1)"
   ]
  },
  {
   "cell_type": "code",
   "execution_count": 20,
   "metadata": {},
   "outputs": [],
   "source": [
    "sc=StandardScaler()\n",
    "X_train=sc.fit_transform(X_train)\n",
    "X_test=sc.fit_transform(X_test)\n",
    "\n",
    "onehotencoder=OneHotEncoder(categorical_features=[0])\n",
    "Y_train=onehotencoder.fit_transform(Y_train).toarray()"
   ]
  },
  {
   "cell_type": "code",
   "execution_count": 44,
   "metadata": {
    "scrolled": true
   },
   "outputs": [
    {
     "name": "stderr",
     "output_type": "stream",
     "text": [
      "/home/sabu/anaconda3/lib/python3.6/site-packages/scipy/signal/_arraytools.py:45: FutureWarning: Using a non-tuple sequence for multidimensional indexing is deprecated; use `arr[tuple(seq)]` instead of `arr[seq]`. In the future this will be interpreted as an array index, `arr[np.array(seq)]`, which will result either in an error or a different result.\n",
      "  b = a[a_slice]\n",
      "/home/sabu/anaconda3/lib/python3.6/site-packages/scipy/signal/signaltools.py:1341: FutureWarning: Using a non-tuple sequence for multidimensional indexing is deprecated; use `arr[tuple(seq)]` instead of `arr[seq]`. In the future this will be interpreted as an array index, `arr[np.array(seq)]`, which will result either in an error or a different result.\n",
      "  out_full[ind] += zi\n",
      "/home/sabu/anaconda3/lib/python3.6/site-packages/scipy/signal/signaltools.py:1344: FutureWarning: Using a non-tuple sequence for multidimensional indexing is deprecated; use `arr[tuple(seq)]` instead of `arr[seq]`. In the future this will be interpreted as an array index, `arr[np.array(seq)]`, which will result either in an error or a different result.\n",
      "  out = out_full[ind]\n",
      "/home/sabu/anaconda3/lib/python3.6/site-packages/scipy/signal/signaltools.py:1350: FutureWarning: Using a non-tuple sequence for multidimensional indexing is deprecated; use `arr[tuple(seq)]` instead of `arr[seq]`. In the future this will be interpreted as an array index, `arr[np.array(seq)]`, which will result either in an error or a different result.\n",
      "  zf = out_full[ind]\n"
     ]
    }
   ],
   "source": [
    "data = X_train[0]\n",
    "signals = []\n",
    "count = 1\n",
    "peaks =  biosppy.signals.ecg.christov_segmenter(signal=data, sampling_rate = 200)[0]\n",
    "for i in (peaks[1:-1]):\n",
    "    diff1 = abs(peaks[count - 1] - i)\n",
    "    diff2 = abs(peaks[count + 1]- i)\n",
    "    x = peaks[count - 1] + diff1//2\n",
    "    y = peaks[count + 1] - diff2//2\n",
    "    signal = data[x:y]\n",
    "    signals.append(signal)\n",
    "    count += 1"
   ]
  },
  {
   "cell_type": "code",
   "execution_count": 45,
   "metadata": {},
   "outputs": [
    {
     "data": {
      "image/png": "[encoded data removed]",
      "text/plain": [
       "<Figure size 432x288 with 1 Axes>"
      ]
     },
     "metadata": {},
     "output_type": "display_data"
    }
   ],
   "source": [
    "array = signals\n",
    "directory = \"data\"\n",
    "for count, i in enumerate(array):\n",
    "  fig = plt.figure(frameon=False)\n",
    "  plt.plot(i) \n",
    "  plt.xticks([]), plt.yticks([])\n",
    "  for spine in plt.gca().spines.values():\n",
    "     spine.set_visible(False)\n",
    "\n",
    "  filename = directory + '/' + str(count)+'.png'\n",
    "  fig.savefig(filename)\n",
    "  im_gray = cv2.imread(filename, cv2.IMREAD_GRAYSCALE)\n",
    "  im_gray = cv2.resize(im_gray, (128, 128), interpolation = cv2.INTER_LANCZOS4)\n",
    "  cv2.imwrite(filename, im_gray)"
   ]
  },
  {
   "cell_type": "code",
   "execution_count": 46,
   "metadata": {},
   "outputs": [],
   "source": [
    "Y_train = Y_train.reshape(-1,1)"
   ]
  },
  {
   "cell_type": "code",
   "execution_count": 23,
   "metadata": {},
   "outputs": [
    {
     "ename": "ValueError",
     "evalue": "cannot reshape array of size 109395 into shape (15,15,1)",
     "output_type": "error",
     "traceback": [
      "\u001b[0;31m---------------------------------------------------------------------------\u001b[0m",
      "\u001b[0;31mValueError\u001b[0m                                Traceback (most recent call last)",
      "\u001b[0;32m<ipython-input-23-b37a3f83c2fd>\u001b[0m in \u001b[0;36m<module>\u001b[0;34m()\u001b[0m\n\u001b[0;32m----> 1\u001b[0;31m \u001b[0mX_train\u001b[0m \u001b[0;34m=\u001b[0m \u001b[0mX_train\u001b[0m\u001b[0;34m.\u001b[0m\u001b[0mreshape\u001b[0m\u001b[0;34m(\u001b[0m\u001b[0;34m-\u001b[0m\u001b[0;36m1\u001b[0m\u001b[0;34m,\u001b[0m\u001b[0;36m15\u001b[0m\u001b[0;34m,\u001b[0m\u001b[0;36m15\u001b[0m\u001b[0;34m,\u001b[0m\u001b[0;36m1\u001b[0m\u001b[0;34m)\u001b[0m\u001b[0;34m\u001b[0m\u001b[0m\n\u001b[0m",
      "\u001b[0;31mValueError\u001b[0m: cannot reshape array of size 109395 into shape (15,15,1)"
     ]
    }
   ],
   "source": [
    "X_train = X_train.reshape(-1,15,15,1)"
   ]
  },
  {
   "cell_type": "code",
   "execution_count": 22,
   "metadata": {},
   "outputs": [
    {
     "data": {
      "text/plain": [
       "(429, 255)"
      ]
     },
     "execution_count": 22,
     "metadata": {},
     "output_type": "execute_result"
    }
   ],
   "source": [
    "X_train.shape"
   ]
  },
  {
   "cell_type": "code",
   "execution_count": 24,
   "metadata": {},
   "outputs": [
    {
     "name": "stdout",
     "output_type": "stream",
     "text": [
      "_________________________________________________________________\n",
      "Layer (type)                 Output Shape              Param #   \n",
      "=================================================================\n",
      "conv2d (Conv2D)              (None, 14, 14, 64)        320       \n",
      "_________________________________________________________________\n",
      "activation (Activation)      (None, 14, 14, 64)        0         \n",
      "_________________________________________________________________\n",
      "max_pooling2d (MaxPooling2D) (None, 7, 7, 64)          0         \n",
      "_________________________________________________________________\n",
      "dropout (Dropout)            (None, 7, 7, 64)          0         \n",
      "_________________________________________________________________\n",
      "conv2d_1 (Conv2D)            (None, 6, 6, 64)          16448     \n",
      "_________________________________________________________________\n",
      "activation_1 (Activation)    (None, 6, 6, 64)          0         \n",
      "_________________________________________________________________\n",
      "max_pooling2d_1 (MaxPooling2 (None, 3, 3, 64)          0         \n",
      "_________________________________________________________________\n",
      "dropout_1 (Dropout)          (None, 3, 3, 64)          0         \n",
      "_________________________________________________________________\n",
      "conv2d_2 (Conv2D)            (None, 2, 2, 64)          16448     \n",
      "_________________________________________________________________\n",
      "activation_2 (Activation)    (None, 2, 2, 64)          0         \n",
      "_________________________________________________________________\n",
      "max_pooling2d_2 (MaxPooling2 (None, 1, 1, 64)          0         \n",
      "_________________________________________________________________\n",
      "dropout_2 (Dropout)          (None, 1, 1, 64)          0         \n",
      "_________________________________________________________________\n",
      "flatten (Flatten)            (None, 64)                0         \n",
      "_________________________________________________________________\n",
      "dense (Dense)                (None, 64)                4160      \n",
      "_________________________________________________________________\n",
      "activation_3 (Activation)    (None, 64)                0         \n",
      "_________________________________________________________________\n",
      "flatten_1 (Flatten)          (None, 64)                0         \n",
      "_________________________________________________________________\n",
      "dense_1 (Dense)              (None, 13)                845       \n",
      "_________________________________________________________________\n",
      "activation_4 (Activation)    (None, 13)                0         \n",
      "=================================================================\n",
      "Total params: 38,221\n",
      "Trainable params: 38,221\n",
      "Non-trainable params: 0\n",
      "_________________________________________________________________\n"
     ]
    }
   ],
   "source": [
    "model = Sequential()\n",
    "model.add(Conv2D(64,(2,2),input_shape = (15,15,1)))\n",
    "model.add(Activation('relu'))\n",
    "model.add(MaxPooling2D(pool_size=(2,2)))\n",
    "model.add(Dropout(0.3))\n",
    "model.add(Conv2D(64,(2,2)))\n",
    "model.add(Activation('relu'))\n",
    "model.add(MaxPooling2D(pool_size=(2,2)))\n",
    "model.add(Dropout(0.3))\n",
    "model.add(Conv2D(64,(2,2)))\n",
    "model.add(Activation('relu'))\n",
    "model.add(MaxPooling2D(pool_size=(2,2)))\n",
    "model.add(Dropout(0.1))\n",
    "model.add(Flatten())\n",
    "model.add(Dense(64))\n",
    "model.add(Activation('relu'))   \n",
    "model.add(Flatten())\n",
    "model.add(Dense(13))\n",
    "model.add(Activation('softmax'))\n",
    "model.compile(loss=\"categorical_crossentropy\",optimizer=\"adam\",metrics=['accuracy'])\n",
    "model.summary()"
   ]
  },
  {
   "cell_type": "code",
   "execution_count": 25,
   "metadata": {},
   "outputs": [
    {
     "ename": "ValueError",
     "evalue": "Error when checking input: expected conv2d_input to have 4 dimensions, but got array with shape (429, 255)",
     "output_type": "error",
     "traceback": [
      "\u001b[0;31m---------------------------------------------------------------------------\u001b[0m",
      "\u001b[0;31mValueError\u001b[0m                                Traceback (most recent call last)",
      "\u001b[0;32m<ipython-input-25-1735a589aa0d>\u001b[0m in \u001b[0;36m<module>\u001b[0;34m()\u001b[0m\n\u001b[0;32m----> 1\u001b[0;31m \u001b[0mmodel\u001b[0m\u001b[0;34m.\u001b[0m\u001b[0mfit\u001b[0m\u001b[0;34m(\u001b[0m\u001b[0mX_train\u001b[0m\u001b[0;34m,\u001b[0m\u001b[0mY_train\u001b[0m\u001b[0;34m,\u001b[0m\u001b[0mepochs\u001b[0m\u001b[0;34m=\u001b[0m\u001b[0;36m500\u001b[0m\u001b[0;34m,\u001b[0m\u001b[0mvalidation_split\u001b[0m\u001b[0;34m=\u001b[0m\u001b[0;36m0.1\u001b[0m\u001b[0;34m)\u001b[0m\u001b[0;34m\u001b[0m\u001b[0m\n\u001b[0m",
      "\u001b[0;32m~/.local/lib/python3.6/site-packages/tensorflow/python/keras/engine/training.py\u001b[0m in \u001b[0;36mfit\u001b[0;34m(self, x, y, batch_size, epochs, verbose, callbacks, validation_split, validation_data, shuffle, class_weight, sample_weight, initial_epoch, steps_per_epoch, validation_steps, max_queue_size, workers, use_multiprocessing, **kwargs)\u001b[0m\n\u001b[1;32m   1534\u001b[0m         \u001b[0msteps_name\u001b[0m\u001b[0;34m=\u001b[0m\u001b[0;34m'steps_per_epoch'\u001b[0m\u001b[0;34m,\u001b[0m\u001b[0;34m\u001b[0m\u001b[0m\n\u001b[1;32m   1535\u001b[0m         \u001b[0msteps\u001b[0m\u001b[0;34m=\u001b[0m\u001b[0msteps_per_epoch\u001b[0m\u001b[0;34m,\u001b[0m\u001b[0;34m\u001b[0m\u001b[0m\n\u001b[0;32m-> 1536\u001b[0;31m         validation_split=validation_split)\n\u001b[0m\u001b[1;32m   1537\u001b[0m \u001b[0;34m\u001b[0m\u001b[0m\n\u001b[1;32m   1538\u001b[0m     \u001b[0;31m# Prepare validation data.\u001b[0m\u001b[0;34m\u001b[0m\u001b[0;34m\u001b[0m\u001b[0m\n",
      "\u001b[0;32m~/.local/lib/python3.6/site-packages/tensorflow/python/keras/engine/training.py\u001b[0m in \u001b[0;36m_standardize_user_data\u001b[0;34m(self, x, y, sample_weight, class_weight, batch_size, check_steps, steps_name, steps, validation_split)\u001b[0m\n\u001b[1;32m    990\u001b[0m         \u001b[0mx\u001b[0m\u001b[0;34m,\u001b[0m \u001b[0my\u001b[0m\u001b[0;34m,\u001b[0m \u001b[0msample_weight\u001b[0m \u001b[0;34m=\u001b[0m \u001b[0mnext_element\u001b[0m\u001b[0;34m\u001b[0m\u001b[0m\n\u001b[1;32m    991\u001b[0m     x, y, sample_weights = self._standardize_weights(x, y, sample_weight,\n\u001b[0;32m--> 992\u001b[0;31m                                                      class_weight, batch_size)\n\u001b[0m\u001b[1;32m    993\u001b[0m     \u001b[0;32mreturn\u001b[0m \u001b[0mx\u001b[0m\u001b[0;34m,\u001b[0m \u001b[0my\u001b[0m\u001b[0;34m,\u001b[0m \u001b[0msample_weights\u001b[0m\u001b[0;34m\u001b[0m\u001b[0m\n\u001b[1;32m    994\u001b[0m \u001b[0;34m\u001b[0m\u001b[0m\n",
      "\u001b[0;32m~/.local/lib/python3.6/site-packages/tensorflow/python/keras/engine/training.py\u001b[0m in \u001b[0;36m_standardize_weights\u001b[0;34m(self, x, y, sample_weight, class_weight, batch_size)\u001b[0m\n\u001b[1;32m   1115\u001b[0m         \u001b[0mfeed_input_shapes\u001b[0m\u001b[0;34m,\u001b[0m\u001b[0;34m\u001b[0m\u001b[0m\n\u001b[1;32m   1116\u001b[0m         \u001b[0mcheck_batch_axis\u001b[0m\u001b[0;34m=\u001b[0m\u001b[0;32mFalse\u001b[0m\u001b[0;34m,\u001b[0m  \u001b[0;31m# Don't enforce the batch size.\u001b[0m\u001b[0;34m\u001b[0m\u001b[0m\n\u001b[0;32m-> 1117\u001b[0;31m         exception_prefix='input')\n\u001b[0m\u001b[1;32m   1118\u001b[0m \u001b[0;34m\u001b[0m\u001b[0m\n\u001b[1;32m   1119\u001b[0m     \u001b[0;32mif\u001b[0m \u001b[0my\u001b[0m \u001b[0;32mis\u001b[0m \u001b[0;32mnot\u001b[0m \u001b[0;32mNone\u001b[0m\u001b[0;34m:\u001b[0m\u001b[0;34m\u001b[0m\u001b[0m\n",
      "\u001b[0;32m~/.local/lib/python3.6/site-packages/tensorflow/python/keras/engine/training_utils.py\u001b[0m in \u001b[0;36mstandardize_input_data\u001b[0;34m(data, names, shapes, check_batch_axis, exception_prefix)\u001b[0m\n\u001b[1;32m    321\u001b[0m                            \u001b[0;34m': expected '\u001b[0m \u001b[0;34m+\u001b[0m \u001b[0mnames\u001b[0m\u001b[0;34m[\u001b[0m\u001b[0mi\u001b[0m\u001b[0;34m]\u001b[0m \u001b[0;34m+\u001b[0m \u001b[0;34m' to have '\u001b[0m \u001b[0;34m+\u001b[0m\u001b[0;34m\u001b[0m\u001b[0m\n\u001b[1;32m    322\u001b[0m                            \u001b[0mstr\u001b[0m\u001b[0;34m(\u001b[0m\u001b[0mlen\u001b[0m\u001b[0;34m(\u001b[0m\u001b[0mshape\u001b[0m\u001b[0;34m)\u001b[0m\u001b[0;34m)\u001b[0m \u001b[0;34m+\u001b[0m \u001b[0;34m' dimensions, but got array '\u001b[0m\u001b[0;34m\u001b[0m\u001b[0m\n\u001b[0;32m--> 323\u001b[0;31m                            'with shape ' + str(data_shape))\n\u001b[0m\u001b[1;32m    324\u001b[0m         \u001b[0;32mif\u001b[0m \u001b[0;32mnot\u001b[0m \u001b[0mcheck_batch_axis\u001b[0m\u001b[0;34m:\u001b[0m\u001b[0;34m\u001b[0m\u001b[0m\n\u001b[1;32m    325\u001b[0m           \u001b[0mdata_shape\u001b[0m \u001b[0;34m=\u001b[0m \u001b[0mdata_shape\u001b[0m\u001b[0;34m[\u001b[0m\u001b[0;36m1\u001b[0m\u001b[0;34m:\u001b[0m\u001b[0;34m]\u001b[0m\u001b[0;34m\u001b[0m\u001b[0m\n",
      "\u001b[0;31mValueError\u001b[0m: Error when checking input: expected conv2d_input to have 4 dimensions, but got array with shape (429, 255)"
     ]
    }
   ],
   "source": [
    "model.fit(X_train,Y_train,epochs=500,validation_split=0.1)"
   ]
  },
  {
   "cell_type": "code",
   "execution_count": 74,
   "metadata": {},
   "outputs": [
    {
     "name": "stdout",
     "output_type": "stream",
     "text": [
      "Train on 386 samples, validate on 43 samples\n",
      "Epoch 1/100\n",
      "386/386 [==============================] - 1s 2ms/step - loss: 2.1668 - acc: 0.4145 - val_loss: 1.9815 - val_acc: 0.5581\n",
      "Epoch 2/100\n",
      "386/386 [==============================] - 0s 116us/step - loss: 1.6874 - acc: 0.5492 - val_loss: 1.9316 - val_acc: 0.5581\n",
      "Epoch 3/100\n",
      "386/386 [==============================] - 0s 124us/step - loss: 1.3973 - acc: 0.5777 - val_loss: 1.9148 - val_acc: 0.5581\n",
      "Epoch 4/100\n",
      "386/386 [==============================] - 0s 126us/step - loss: 1.1778 - acc: 0.6062 - val_loss: 1.8286 - val_acc: 0.5814\n",
      "Epoch 5/100\n",
      "386/386 [==============================] - 0s 127us/step - loss: 0.9383 - acc: 0.6606 - val_loss: 1.8442 - val_acc: 0.5349\n",
      "Epoch 6/100\n",
      "386/386 [==============================] - 0s 122us/step - loss: 0.7243 - acc: 0.7306 - val_loss: 1.8763 - val_acc: 0.5581\n",
      "Epoch 7/100\n",
      "386/386 [==============================] - 0s 101us/step - loss: 0.5304 - acc: 0.8316 - val_loss: 1.9028 - val_acc: 0.5116\n",
      "Epoch 8/100\n",
      "386/386 [==============================] - 0s 109us/step - loss: 0.3640 - acc: 0.9093 - val_loss: 2.0861 - val_acc: 0.5116\n",
      "Epoch 9/100\n",
      "386/386 [==============================] - 0s 106us/step - loss: 0.2168 - acc: 0.9637 - val_loss: 2.2553 - val_acc: 0.5349\n",
      "Epoch 10/100\n",
      "386/386 [==============================] - 0s 115us/step - loss: 0.1295 - acc: 0.9819 - val_loss: 2.3102 - val_acc: 0.5349\n",
      "Epoch 11/100\n",
      "386/386 [==============================] - 0s 117us/step - loss: 0.0756 - acc: 0.9896 - val_loss: 2.5629 - val_acc: 0.5349\n",
      "Epoch 12/100\n",
      "386/386 [==============================] - 0s 102us/step - loss: 0.0466 - acc: 0.9974 - val_loss: 2.6020 - val_acc: 0.5349\n",
      "Epoch 13/100\n",
      "386/386 [==============================] - 0s 112us/step - loss: 0.0301 - acc: 1.0000 - val_loss: 2.6974 - val_acc: 0.5349\n",
      "Epoch 14/100\n",
      "386/386 [==============================] - 0s 103us/step - loss: 0.0191 - acc: 1.0000 - val_loss: 2.8198 - val_acc: 0.5349\n",
      "Epoch 15/100\n",
      "386/386 [==============================] - 0s 129us/step - loss: 0.0129 - acc: 1.0000 - val_loss: 2.8702 - val_acc: 0.5349\n",
      "Epoch 16/100\n",
      "386/386 [==============================] - 0s 107us/step - loss: 0.0092 - acc: 1.0000 - val_loss: 2.9102 - val_acc: 0.5349\n",
      "Epoch 17/100\n",
      "386/386 [==============================] - 0s 113us/step - loss: 0.0069 - acc: 1.0000 - val_loss: 2.9617 - val_acc: 0.5349\n",
      "Epoch 18/100\n",
      "386/386 [==============================] - 0s 108us/step - loss: 0.0057 - acc: 1.0000 - val_loss: 2.9908 - val_acc: 0.5349\n",
      "Epoch 19/100\n",
      "386/386 [==============================] - 0s 102us/step - loss: 0.0046 - acc: 1.0000 - val_loss: 3.0318 - val_acc: 0.5349\n",
      "Epoch 20/100\n",
      "386/386 [==============================] - 0s 138us/step - loss: 0.0039 - acc: 1.0000 - val_loss: 3.0596 - val_acc: 0.5349\n",
      "Epoch 21/100\n",
      "386/386 [==============================] - 0s 105us/step - loss: 0.0034 - acc: 1.0000 - val_loss: 3.0873 - val_acc: 0.5349\n",
      "Epoch 22/100\n",
      "386/386 [==============================] - 0s 112us/step - loss: 0.0029 - acc: 1.0000 - val_loss: 3.1273 - val_acc: 0.5349\n",
      "Epoch 23/100\n",
      "386/386 [==============================] - 0s 107us/step - loss: 0.0026 - acc: 1.0000 - val_loss: 3.1637 - val_acc: 0.5349\n",
      "Epoch 24/100\n",
      "386/386 [==============================] - 0s 123us/step - loss: 0.0023 - acc: 1.0000 - val_loss: 3.2462 - val_acc: 0.5349\n",
      "Epoch 25/100\n",
      "386/386 [==============================] - 0s 113us/step - loss: 0.0020 - acc: 1.0000 - val_loss: 3.2623 - val_acc: 0.5349\n",
      "Epoch 26/100\n",
      "386/386 [==============================] - 0s 108us/step - loss: 0.0018 - acc: 1.0000 - val_loss: 3.2777 - val_acc: 0.5349\n",
      "Epoch 27/100\n",
      "386/386 [==============================] - 0s 127us/step - loss: 0.0017 - acc: 1.0000 - val_loss: 3.2939 - val_acc: 0.5349\n",
      "Epoch 28/100\n",
      "386/386 [==============================] - 0s 119us/step - loss: 0.0015 - acc: 1.0000 - val_loss: 3.3002 - val_acc: 0.5349\n",
      "Epoch 29/100\n",
      "386/386 [==============================] - 0s 125us/step - loss: 0.0014 - acc: 1.0000 - val_loss: 3.3275 - val_acc: 0.5349\n",
      "Epoch 30/100\n",
      "386/386 [==============================] - 0s 109us/step - loss: 0.0013 - acc: 1.0000 - val_loss: 3.3560 - val_acc: 0.5349\n",
      "Epoch 31/100\n",
      "386/386 [==============================] - 0s 128us/step - loss: 0.0012 - acc: 1.0000 - val_loss: 3.3770 - val_acc: 0.5349\n",
      "Epoch 32/100\n",
      "386/386 [==============================] - 0s 140us/step - loss: 0.0011 - acc: 1.0000 - val_loss: 3.3957 - val_acc: 0.5349\n",
      "Epoch 33/100\n",
      "386/386 [==============================] - 0s 121us/step - loss: 0.0010 - acc: 1.0000 - val_loss: 3.4086 - val_acc: 0.5349\n",
      "Epoch 34/100\n",
      "386/386 [==============================] - 0s 105us/step - loss: 9.4889e-04 - acc: 1.0000 - val_loss: 3.4308 - val_acc: 0.5349\n",
      "Epoch 35/100\n",
      "386/386 [==============================] - 0s 118us/step - loss: 8.8850e-04 - acc: 1.0000 - val_loss: 3.4542 - val_acc: 0.5349\n",
      "Epoch 36/100\n",
      "386/386 [==============================] - 0s 117us/step - loss: 8.3525e-04 - acc: 1.0000 - val_loss: 3.4658 - val_acc: 0.5349\n",
      "Epoch 37/100\n",
      "386/386 [==============================] - 0s 112us/step - loss: 7.8761e-04 - acc: 1.0000 - val_loss: 3.4717 - val_acc: 0.5349\n",
      "Epoch 38/100\n",
      "386/386 [==============================] - 0s 121us/step - loss: 7.4015e-04 - acc: 1.0000 - val_loss: 3.4904 - val_acc: 0.5349\n",
      "Epoch 39/100\n",
      "386/386 [==============================] - 0s 119us/step - loss: 7.0125e-04 - acc: 1.0000 - val_loss: 3.5008 - val_acc: 0.5349\n",
      "Epoch 40/100\n",
      "386/386 [==============================] - 0s 142us/step - loss: 6.6518e-04 - acc: 1.0000 - val_loss: 3.5027 - val_acc: 0.5349\n",
      "Epoch 41/100\n",
      "386/386 [==============================] - 0s 98us/step - loss: 6.3049e-04 - acc: 1.0000 - val_loss: 3.5075 - val_acc: 0.5349\n",
      "Epoch 42/100\n",
      "386/386 [==============================] - 0s 103us/step - loss: 5.9732e-04 - acc: 1.0000 - val_loss: 3.5074 - val_acc: 0.5349\n",
      "Epoch 43/100\n",
      "386/386 [==============================] - 0s 102us/step - loss: 5.6804e-04 - acc: 1.0000 - val_loss: 3.5232 - val_acc: 0.5349\n",
      "Epoch 44/100\n",
      "386/386 [==============================] - 0s 131us/step - loss: 5.3824e-04 - acc: 1.0000 - val_loss: 3.5376 - val_acc: 0.5349\n",
      "Epoch 45/100\n",
      "386/386 [==============================] - 0s 108us/step - loss: 5.1064e-04 - acc: 1.0000 - val_loss: 3.5505 - val_acc: 0.5349\n",
      "Epoch 46/100\n",
      "386/386 [==============================] - 0s 98us/step - loss: 4.8640e-04 - acc: 1.0000 - val_loss: 3.5651 - val_acc: 0.5349\n",
      "Epoch 47/100\n",
      "386/386 [==============================] - 0s 99us/step - loss: 4.6576e-04 - acc: 1.0000 - val_loss: 3.5745 - val_acc: 0.5349\n",
      "Epoch 48/100\n",
      "386/386 [==============================] - 0s 101us/step - loss: 4.4446e-04 - acc: 1.0000 - val_loss: 3.5850 - val_acc: 0.5349\n",
      "Epoch 49/100\n",
      "386/386 [==============================] - 0s 114us/step - loss: 4.2596e-04 - acc: 1.0000 - val_loss: 3.5976 - val_acc: 0.5349\n",
      "Epoch 50/100\n",
      "386/386 [==============================] - 0s 118us/step - loss: 4.0749e-04 - acc: 1.0000 - val_loss: 3.6085 - val_acc: 0.5349\n",
      "Epoch 51/100\n",
      "386/386 [==============================] - 0s 95us/step - loss: 3.9101e-04 - acc: 1.0000 - val_loss: 3.6171 - val_acc: 0.5349\n",
      "Epoch 52/100\n",
      "386/386 [==============================] - 0s 130us/step - loss: 3.7649e-04 - acc: 1.0000 - val_loss: 3.6251 - val_acc: 0.5349\n",
      "Epoch 53/100\n",
      "386/386 [==============================] - 0s 124us/step - loss: 3.6115e-04 - acc: 1.0000 - val_loss: 3.6358 - val_acc: 0.5349\n",
      "Epoch 54/100\n",
      "386/386 [==============================] - 0s 110us/step - loss: 3.4634e-04 - acc: 1.0000 - val_loss: 3.6400 - val_acc: 0.5349\n",
      "Epoch 55/100\n",
      "386/386 [==============================] - 0s 143us/step - loss: 3.3368e-04 - acc: 1.0000 - val_loss: 3.6502 - val_acc: 0.5349\n",
      "Epoch 56/100\n",
      "386/386 [==============================] - 0s 108us/step - loss: 3.2121e-04 - acc: 1.0000 - val_loss: 3.6599 - val_acc: 0.5349\n",
      "Epoch 57/100\n",
      "386/386 [==============================] - 0s 119us/step - loss: 3.0899e-04 - acc: 1.0000 - val_loss: 3.6671 - val_acc: 0.5349\n",
      "Epoch 58/100\n",
      "386/386 [==============================] - 0s 139us/step - loss: 2.9884e-04 - acc: 1.0000 - val_loss: 3.6721 - val_acc: 0.5349\n",
      "Epoch 59/100\n",
      "386/386 [==============================] - 0s 131us/step - loss: 2.8797e-04 - acc: 1.0000 - val_loss: 3.6807 - val_acc: 0.5349\n",
      "Epoch 60/100\n",
      "386/386 [==============================] - 0s 122us/step - loss: 2.7810e-04 - acc: 1.0000 - val_loss: 3.6939 - val_acc: 0.5349\n",
      "Epoch 61/100\n",
      "386/386 [==============================] - 0s 115us/step - loss: 2.6872e-04 - acc: 1.0000 - val_loss: 3.6974 - val_acc: 0.5349\n",
      "Epoch 62/100\n",
      "386/386 [==============================] - 0s 88us/step - loss: 2.5924e-04 - acc: 1.0000 - val_loss: 3.7016 - val_acc: 0.5349\n",
      "Epoch 63/100\n",
      "386/386 [==============================] - 0s 105us/step - loss: 2.5013e-04 - acc: 1.0000 - val_loss: 3.7080 - val_acc: 0.5349\n",
      "Epoch 64/100\n",
      "386/386 [==============================] - 0s 109us/step - loss: 2.4262e-04 - acc: 1.0000 - val_loss: 3.7161 - val_acc: 0.5349\n",
      "Epoch 65/100\n",
      "386/386 [==============================] - 0s 100us/step - loss: 2.3474e-04 - acc: 1.0000 - val_loss: 3.7234 - val_acc: 0.5349\n",
      "Epoch 66/100\n",
      "386/386 [==============================] - 0s 105us/step - loss: 2.2673e-04 - acc: 1.0000 - val_loss: 3.7303 - val_acc: 0.5349\n",
      "Epoch 67/100\n",
      "386/386 [==============================] - 0s 102us/step - loss: 2.1997e-04 - acc: 1.0000 - val_loss: 3.7361 - val_acc: 0.5349\n",
      "Epoch 68/100\n",
      "386/386 [==============================] - 0s 98us/step - loss: 2.1254e-04 - acc: 1.0000 - val_loss: 3.7442 - val_acc: 0.5349\n",
      "Epoch 69/100\n",
      "386/386 [==============================] - 0s 98us/step - loss: 2.0560e-04 - acc: 1.0000 - val_loss: 3.7476 - val_acc: 0.5349\n",
      "Epoch 70/100\n",
      "386/386 [==============================] - 0s 87us/step - loss: 1.9942e-04 - acc: 1.0000 - val_loss: 3.7546 - val_acc: 0.5349\n",
      "Epoch 71/100\n",
      "386/386 [==============================] - 0s 101us/step - loss: 1.9225e-04 - acc: 1.0000 - val_loss: 3.7617 - val_acc: 0.5349\n",
      "Epoch 72/100\n",
      "386/386 [==============================] - 0s 103us/step - loss: 1.8602e-04 - acc: 1.0000 - val_loss: 3.7680 - val_acc: 0.5349\n",
      "Epoch 73/100\n",
      "386/386 [==============================] - 0s 98us/step - loss: 1.8037e-04 - acc: 1.0000 - val_loss: 3.7750 - val_acc: 0.5349\n",
      "Epoch 74/100\n",
      "386/386 [==============================] - 0s 97us/step - loss: 1.7526e-04 - acc: 1.0000 - val_loss: 3.7777 - val_acc: 0.5349\n",
      "Epoch 75/100\n",
      "386/386 [==============================] - 0s 101us/step - loss: 1.7017e-04 - acc: 1.0000 - val_loss: 3.7888 - val_acc: 0.5349\n",
      "Epoch 76/100\n",
      "386/386 [==============================] - 0s 101us/step - loss: 1.6522e-04 - acc: 1.0000 - val_loss: 3.7971 - val_acc: 0.5349\n",
      "Epoch 77/100\n",
      "386/386 [==============================] - 0s 98us/step - loss: 1.6074e-04 - acc: 1.0000 - val_loss: 3.8040 - val_acc: 0.5349\n",
      "Epoch 78/100\n",
      "386/386 [==============================] - 0s 101us/step - loss: 1.5648e-04 - acc: 1.0000 - val_loss: 3.8106 - val_acc: 0.5349\n",
      "Epoch 79/100\n",
      "386/386 [==============================] - 0s 108us/step - loss: 1.5242e-04 - acc: 1.0000 - val_loss: 3.8166 - val_acc: 0.5349\n",
      "Epoch 80/100\n",
      "386/386 [==============================] - 0s 104us/step - loss: 1.4859e-04 - acc: 1.0000 - val_loss: 3.8252 - val_acc: 0.5349\n",
      "Epoch 81/100\n",
      "386/386 [==============================] - 0s 104us/step - loss: 1.4493e-04 - acc: 1.0000 - val_loss: 3.8303 - val_acc: 0.5349\n",
      "Epoch 82/100\n",
      "386/386 [==============================] - 0s 99us/step - loss: 1.4123e-04 - acc: 1.0000 - val_loss: 3.8349 - val_acc: 0.5349\n",
      "Epoch 83/100\n",
      "386/386 [==============================] - 0s 99us/step - loss: 1.3779e-04 - acc: 1.0000 - val_loss: 3.8386 - val_acc: 0.5349\n",
      "Epoch 84/100\n",
      "386/386 [==============================] - 0s 106us/step - loss: 1.3440e-04 - acc: 1.0000 - val_loss: 3.8433 - val_acc: 0.5349\n",
      "Epoch 85/100\n",
      "386/386 [==============================] - 0s 106us/step - loss: 1.3109e-04 - acc: 1.0000 - val_loss: 3.8487 - val_acc: 0.5349\n",
      "Epoch 86/100\n",
      "386/386 [==============================] - 0s 103us/step - loss: 1.2825e-04 - acc: 1.0000 - val_loss: 3.8547 - val_acc: 0.5349\n",
      "Epoch 87/100\n",
      "386/386 [==============================] - 0s 104us/step - loss: 1.2512e-04 - acc: 1.0000 - val_loss: 3.8623 - val_acc: 0.5349\n",
      "Epoch 88/100\n",
      "386/386 [==============================] - 0s 108us/step - loss: 1.2224e-04 - acc: 1.0000 - val_loss: 3.8699 - val_acc: 0.5349\n",
      "Epoch 89/100\n",
      "386/386 [==============================] - 0s 104us/step - loss: 1.1956e-04 - acc: 1.0000 - val_loss: 3.8732 - val_acc: 0.5349\n",
      "Epoch 90/100\n",
      "386/386 [==============================] - 0s 109us/step - loss: 1.1683e-04 - acc: 1.0000 - val_loss: 3.8747 - val_acc: 0.5349\n",
      "Epoch 91/100\n",
      "386/386 [==============================] - 0s 104us/step - loss: 1.1407e-04 - acc: 1.0000 - val_loss: 3.8749 - val_acc: 0.5349\n",
      "Epoch 92/100\n",
      "386/386 [==============================] - 0s 99us/step - loss: 1.1151e-04 - acc: 1.0000 - val_loss: 3.8756 - val_acc: 0.5349\n",
      "Epoch 93/100\n",
      "386/386 [==============================] - 0s 105us/step - loss: 1.0894e-04 - acc: 1.0000 - val_loss: 3.8817 - val_acc: 0.5349\n",
      "Epoch 94/100\n",
      "386/386 [==============================] - 0s 102us/step - loss: 1.0636e-04 - acc: 1.0000 - val_loss: 3.8878 - val_acc: 0.5349\n",
      "Epoch 95/100\n",
      "386/386 [==============================] - 0s 107us/step - loss: 1.0411e-04 - acc: 1.0000 - val_loss: 3.8928 - val_acc: 0.5349\n",
      "Epoch 96/100\n",
      "386/386 [==============================] - 0s 109us/step - loss: 1.0186e-04 - acc: 1.0000 - val_loss: 3.8926 - val_acc: 0.5349\n",
      "Epoch 97/100\n",
      "386/386 [==============================] - 0s 95us/step - loss: 9.9427e-05 - acc: 1.0000 - val_loss: 3.8949 - val_acc: 0.5349\n",
      "Epoch 98/100\n",
      "386/386 [==============================] - 0s 97us/step - loss: 9.7254e-05 - acc: 1.0000 - val_loss: 3.9008 - val_acc: 0.5349\n",
      "Epoch 99/100\n",
      "386/386 [==============================] - 0s 113us/step - loss: 9.5154e-05 - acc: 1.0000 - val_loss: 3.9047 - val_acc: 0.5349\n",
      "Epoch 100/100\n",
      "386/386 [==============================] - 0s 124us/step - loss: 9.3191e-05 - acc: 1.0000 - val_loss: 3.9099 - val_acc: 0.5349\n"
     ]
    },
    {
     "data": {
      "text/plain": [
       "<tensorflow.python.keras.callbacks.History at 0x7f46a5052d68>"
      ]
     },
     "execution_count": 74,
     "metadata": {},
     "output_type": "execute_result"
    }
   ],
   "source": [
    "from keras.models import Sequential\n",
    "from keras.layers import Dense\n",
    "from keras.layers import Dropout\n",
    "import tensorflow as tf\n",
    "\n",
    "#initialising the ann\n",
    "model = tf.keras.models.Sequential() #for the feed-forward network\n",
    "model.add(tf.keras.layers.Dropout(0.3))\n",
    "model.add(tf.keras.layers.Dense(128,activation = tf.nn.relu))\n",
    "model.add(tf.keras.layers.Dropout(0.3))\n",
    "model.add(tf.keras.layers.Dense(128,activation = tf.nn.relu))\n",
    "model.add(tf.keras.layers.Dropout(0.3))\n",
    "model.add(tf.keras.layers.Dense(64,activation = tf.nn.relu))\n",
    "model.add(tf.keras.layers.Dropout(0.3))\n",
    "model.add(tf.keras.layers.Dense(64,activation = tf.nn.relu))\n",
    "model.add(tf.keras.layers.Dropout(0.3))\n",
    "model.add(tf.keras.layers.Dense(13,activation= tf.nn.softmax))\n",
    "model.compile(optimizer='adam',loss='categorical_crossentropy',metrics=['accuracy'])\n",
    "model.fit(X_train,Y_train,epochs=100,validation_split=0.1)"
   ]
  },
  {
   "cell_type": "code",
   "execution_count": 72,
   "metadata": {},
   "outputs": [
    {
     "name": "stdout",
     "output_type": "stream",
     "text": [
      "Train on 386 samples, validate on 43 samples\n",
      "Epoch 1/10\n",
      "386/386 [==============================] - 0s 1ms/step - loss: 2.3371 - acc: 0.3005 - val_loss: 2.0551 - val_acc: 0.5581\n",
      "Epoch 2/10\n",
      "386/386 [==============================] - 0s 107us/step - loss: 1.5853 - acc: 0.5544 - val_loss: 2.0607 - val_acc: 0.5581\n",
      "Epoch 3/10\n",
      "386/386 [==============================] - 0s 108us/step - loss: 1.2055 - acc: 0.6528 - val_loss: 2.0574 - val_acc: 0.5116\n",
      "Epoch 4/10\n",
      "386/386 [==============================] - 0s 89us/step - loss: 0.9629 - acc: 0.6943 - val_loss: 2.0094 - val_acc: 0.5581\n",
      "Epoch 5/10\n",
      "386/386 [==============================] - 0s 92us/step - loss: 0.7400 - acc: 0.7824 - val_loss: 2.0183 - val_acc: 0.5581\n",
      "Epoch 6/10\n",
      "386/386 [==============================] - 0s 95us/step - loss: 0.5520 - acc: 0.8575 - val_loss: 2.0396 - val_acc: 0.5581\n",
      "Epoch 7/10\n",
      "386/386 [==============================] - 0s 83us/step - loss: 0.4125 - acc: 0.9016 - val_loss: 2.0678 - val_acc: 0.5581\n",
      "Epoch 8/10\n",
      "386/386 [==============================] - 0s 87us/step - loss: 0.3026 - acc: 0.9534 - val_loss: 2.0892 - val_acc: 0.5581\n",
      "Epoch 9/10\n",
      "386/386 [==============================] - 0s 99us/step - loss: 0.2244 - acc: 0.9845 - val_loss: 2.1583 - val_acc: 0.5581\n",
      "Epoch 10/10\n",
      "386/386 [==============================] - 0s 126us/step - loss: 0.1656 - acc: 0.9896 - val_loss: 2.2262 - val_acc: 0.5349\n"
     ]
    },
    {
     "data": {
      "text/plain": [
       "<tensorflow.python.keras.callbacks.History at 0x7f46a5ff0da0>"
      ]
     },
     "execution_count": 72,
     "metadata": {},
     "output_type": "execute_result"
    }
   ],
   "source": [
    "model = tf.keras.models.Sequential() #for the feed-forward network\n",
    "model.add(tf.keras.layers.Flatten())\n",
    "model.add(tf.keras.layers.Dense(128,activation = tf.nn.relu))\n",
    "model.add(tf.keras.layers.Dense(128,activation = tf.nn.relu))\n",
    "model.add(tf.keras.layers.Dense(13,activation= tf.nn.softmax))\n",
    "model.compile(optimizer='adam',loss='categorical_crossentropy',metrics=['accuracy'])\n",
    "model.fit(X_train,Y_train,epochs=10,validation_split=0.1)"
   ]
  },
  {
   "cell_type": "code",
   "execution_count": null,
   "metadata": {},
   "outputs": [],
   "source": []
  },
  {
   "cell_type": "code",
   "execution_count": null,
   "metadata": {},
   "outputs": [],
   "source": []
  },
  {
   "cell_type": "code",
   "execution_count": null,
   "metadata": {},
   "outputs": [],
   "source": []
  },
  {
   "cell_type": "code",
   "execution_count": null,
   "metadata": {},
   "outputs": [],
   "source": []
  },
  {
   "cell_type": "code",
   "execution_count": null,
   "metadata": {},
   "outputs": [],
   "source": []
  },
  {
   "cell_type": "code",
   "execution_count": null,
   "metadata": {},
   "outputs": [],
   "source": []
  },
  {
   "cell_type": "code",
   "execution_count": null,
   "metadata": {},
   "outputs": [],
   "source": []
  },
  {
   "cell_type": "code",
   "execution_count": null,
   "metadata": {},
   "outputs": [],
   "source": []
  },
  {
   "cell_type": "code",
   "execution_count": null,
   "metadata": {},
   "outputs": [],
   "source": [
    "pca.explained_variance_ratio_"
   ]
  },
  {
   "cell_type": "code",
   "execution_count": null,
   "metadata": {},
   "outputs": [],
   "source": []
  },
  {
   "cell_type": "code",
   "execution_count": null,
   "metadata": {},
   "outputs": [],
   "source": []
  }
 ],
 "metadata": {
  "kernelspec": {
   "display_name": "Python 3",
   "language": "python",
   "name": "python3"
  },
  "language_info": {
   "codemirror_mode": {
    "name": "ipython",
    "version": 3
   },
   "file_extension": ".py",
   "mimetype": "text/x-python",
   "name": "python",
   "nbconvert_exporter": "python",
   "pygments_lexer": "ipython3",
   "version": "3.6.5"
  }
 },
 "nbformat": 4,
 "nbformat_minor": 2
}
