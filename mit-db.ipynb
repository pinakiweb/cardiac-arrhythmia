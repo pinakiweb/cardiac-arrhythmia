{
 "cells": [
  {
   "cell_type": "code",
   "execution_count": 2,
   "metadata": {},
   "outputs": [
    {
     "name": "stderr",
     "output_type": "stream",
     "text": [
      "Using TensorFlow backend.\n"
     ]
    }
   ],
   "source": [
    "from sklearn.model_selection import train_test_split\n",
    "from tensorflow import keras\n",
    "from keras.models import Sequential\n",
    "from keras.layers import MaxPool2D, Conv2D, BatchNormalization, Dense, Flatten, Dropout, Activation\n",
    "from keras.layers.advanced_activations import LeakyReLU\n",
    "import numpy as np\n",
    "import pandas as pd\n",
    "import glob\n",
    "import cv2\n",
    "import wfdb\n",
    "import os\n",
    "import biosppy\n",
    "import matplotlib.pyplot as plt"
   ]
  },
  {
   "cell_type": "code",
   "execution_count": 23,
   "metadata": {},
   "outputs": [],
   "source": [
    "def get_records():\n",
    "\n",
    "    paths = glob.glob('data/mitdb/*.atr')\n",
    "\n",
    "    paths = [path[:-4] for path in paths]\n",
    "    paths.sort()\n",
    "\n",
    "    return paths\n",
    "\n",
    "def beat_annotations(annotation):\n",
    "    \n",
    "    good = ['N']   \n",
    "    ids = np.in1d(annotation.symbol, good)\n",
    "    beats = annotation.sample[ids]\n",
    "\n",
    "    return beats\n",
    "  \n",
    "def segmentation(records):\n",
    "    Normal = []\n",
    "    for e in records:\n",
    "        signals, fields = wfdb.rdsamp(e, channels = [0]) \n",
    "\n",
    "        ann = wfdb.rdann(e, 'atr')\n",
    "        good = ['N']\n",
    "        ids = np.in1d(ann.symbol, good)\n",
    "        imp_beats = ann.sample[ids]\n",
    "        beats = (ann.sample)\n",
    "        for i in imp_beats:\n",
    "            beats = list(beats)\n",
    "            j = beats.index(i)\n",
    "            if(j!=0 and j!=(len(beats)-1)):\n",
    "                x = beats[j-1]\n",
    "                y = beats[j+1]\n",
    "                diff1 = abs(x - beats[j])//2\n",
    "                diff2 = abs(y - beats[j])//2\n",
    "                Normal.append(signals[beats[j] - diff1: beats[j] + diff2, 0])\n",
    "                print(signal)\n",
    "                break\n",
    "    return Normal"
   ]
  },
  {
   "cell_type": "code",
   "execution_count": 60,
   "metadata": {
    "scrolled": true
   },
   "outputs": [],
   "source": [
    "def find_peaks(sig):\n",
    "    if len(sig) == 0:\n",
    "        return np.empty([0]), np.empty([0])\n",
    "\n",
    "    tmp = sig[1:]\n",
    "    tmp = np.append(tmp, [sig[-1]])\n",
    "    tmp = sig - tmp\n",
    "    tmp[np.where(tmp>0)] = 1\n",
    "    tmp[np.where(tmp==0)] = 0\n",
    "    tmp[np.where(tmp<0)] = -1\n",
    "    tmp2 = tmp[1:]\n",
    "    tmp2 = np.append(tmp2, [0])\n",
    "    tmp = tmp-tmp2\n",
    "\n",
    "    hard_peaks = np.where(np.logical_or(tmp==-2, tmp==+2))[0] + 1\n",
    "    soft_peaks = []\n",
    "\n",
    "    for iv in np.where(np.logical_or(tmp==-1,tmp==+1))[0]:\n",
    "        t = tmp[iv]\n",
    "        i = iv+1\n",
    "        while True:\n",
    "            if i==len(tmp) or tmp[i] == -t or tmp[i] == -2 or tmp[i] == 2:\n",
    "                break\n",
    "            if tmp[i] == t:\n",
    "                soft_peaks.append(int(iv + (i - iv)/2))\n",
    "                break\n",
    "            i += 1\n",
    "    soft_peaks = np.array(soft_peaks, dtype='int') + 1\n",
    "\n",
    "    return hard_peaks, soft_peaks"
   ]
  },
  {
   "cell_type": "code",
   "execution_count": null,
   "metadata": {},
   "outputs": [],
   "source": []
  },
  {
   "cell_type": "code",
   "execution_count": 45,
   "metadata": {
    "scrolled": true
   },
   "outputs": [
    {
     "data": {
      "image/png": "[encoded data removed]",
      "text/plain": [
       "<Figure size 432x288 with 1 Axes>"
      ]
     },
     "metadata": {},
     "output_type": "display_data"
    },
    {
     "data": {
      "image/png": "[encoded data removed]",
      "text/plain": [
       "<Figure size 432x288 with 1 Axes>"
      ]
     },
     "metadata": {},
     "output_type": "display_data"
    }
   ],
   "source": [
    "array = signals\n",
    "directory = \"data\"\n",
    "for count, i in enumerate(array):\n",
    "  fig = plt.figure(frameon=False)\n",
    "  plt.plot(i) \n",
    "  plt.xticks([]), plt.yticks([])\n",
    "  for spine in plt.gca().spines.values():\n",
    "     spine.set_visible(False)\n",
    "\n",
    "  filename = directory + '/' + str(count)+'.png'\n",
    "  fig.savefig(filename)\n",
    "  im_gray = cv2.imread(filename, cv2.IMREAD_GRAYSCALE)\n",
    "  im_gray = cv2.resize(im_gray, (128, 128), interpolation = cv2.INTER_LANCZOS4)\n",
    "  cv2.imwrite(filename, im_gray)"
   ]
  },
  {
   "cell_type": "code",
   "execution_count": 3,
   "metadata": {},
   "outputs": [],
   "source": [
    "def cropping(image, filename):\n",
    "    \n",
    "    #Left Top Crop\n",
    "    datadir = os.path.join(\"img\",filename)\n",
    "    crop = image[:96, :96]\n",
    "    crop = cv2.resize(crop, (128, 128))\n",
    "    cv2.imwrite(filename[:-4] + 'leftTop' + '.png', crop)\n",
    "    \n",
    "    #Center Top Crop\n",
    "    crop = image[:96, 16:112]\n",
    "    crop = cv2.resize(crop, (128, 128))\n",
    "    cv2.imwrite(datadir[:-4] + 'centerTop' + '.png', crop)\n",
    "    \n",
    "    #Right Top Crop\n",
    "    crop = image[:96, 32:]\n",
    "    crop = cv2.resize(crop, (128, 128))\n",
    "    cv2.imwrite(datadir[:-4] + 'rightTop' + '.png', crop)\n",
    "    \n",
    "    #Left Center Crop\n",
    "    crop = image[16:112, :96]\n",
    "    crop = cv2.resize(crop, (128, 128))\n",
    "    cv2.imwrite(datadir[:-4] + 'leftCenter' + '.png', crop)\n",
    "    \n",
    "    #Center Center Crop\n",
    "    crop = image[16:112, 16:112]\n",
    "    crop = cv2.resize(crop, (128, 128))\n",
    "    cv2.imwrite(datadir[:-4] + 'centerCenter' + '.png', crop)\n",
    "    \n",
    "    #Right Center Crop\n",
    "    crop = image[16:112, 32:]\n",
    "    crop = cv2.resize(crop, (128, 128))\n",
    "    cv2.imwrite(datadir[:-4] + 'rightCenter' + '.png', crop)\n",
    "    \n",
    "    #Left Bottom Crop\n",
    "    crop = image[32:, :96]\n",
    "    crop = cv2.resize(crop, (128, 128))\n",
    "    cv2.imwrite(datadir[:-4] + 'leftBottom' + '.png', crop)\n",
    "    \n",
    "    #Center Bottom Crop\n",
    "    crop = image[32:, 16:112]\n",
    "    crop = cv2.resize(crop, (128, 128))\n",
    "    cv2.imwrite(datadir[:-4] + 'centerBottom' + '.png', crop)\n",
    "    \n",
    "    #Right Bottom Crop\n",
    "    crop = image[32:, 32:]\n",
    "    crop = cv2.resize(crop, (128, 128))\n",
    "    cv2.imwrite(datadir[:-4] + 'rightBottom' + '.png', crop)\n"
   ]
  },
  {
   "cell_type": "code",
   "execution_count": 4,
   "metadata": {},
   "outputs": [
    {
     "name": "stdout",
     "output_type": "stream",
     "text": [
      "_________________________________________________________________\n",
      "Layer (type)                 Output Shape              Param #   \n",
      "=================================================================\n",
      "conv2d_1 (Conv2D)            (None, 126, 126, 64)      640       \n",
      "_________________________________________________________________\n",
      "activation_1 (Activation)    (None, 126, 126, 64)      0         \n",
      "_________________________________________________________________\n",
      "batch_normalization_1 (Batch (None, 126, 126, 64)      256       \n",
      "_________________________________________________________________\n",
      "conv2d_2 (Conv2D)            (None, 124, 124, 64)      36928     \n",
      "_________________________________________________________________\n",
      "activation_2 (Activation)    (None, 124, 124, 64)      0         \n",
      "_________________________________________________________________\n",
      "batch_normalization_2 (Batch (None, 124, 124, 64)      256       \n",
      "_________________________________________________________________\n",
      "max_pooling2d_1 (MaxPooling2 (None, 62, 62, 64)        0         \n",
      "_________________________________________________________________\n",
      "conv2d_3 (Conv2D)            (None, 60, 60, 128)       73856     \n",
      "_________________________________________________________________\n",
      "activation_3 (Activation)    (None, 60, 60, 128)       0         \n",
      "_________________________________________________________________\n",
      "batch_normalization_3 (Batch (None, 60, 60, 128)       512       \n",
      "_________________________________________________________________\n",
      "conv2d_4 (Conv2D)            (None, 58, 58, 128)       147584    \n",
      "_________________________________________________________________\n",
      "activation_4 (Activation)    (None, 58, 58, 128)       0         \n",
      "_________________________________________________________________\n",
      "batch_normalization_4 (Batch (None, 58, 58, 128)       512       \n",
      "_________________________________________________________________\n",
      "max_pooling2d_2 (MaxPooling2 (None, 29, 29, 128)       0         \n",
      "_________________________________________________________________\n",
      "conv2d_5 (Conv2D)            (None, 27, 27, 256)       295168    \n",
      "_________________________________________________________________\n",
      "activation_5 (Activation)    (None, 27, 27, 256)       0         \n",
      "_________________________________________________________________\n",
      "batch_normalization_5 (Batch (None, 27, 27, 256)       1024      \n",
      "_________________________________________________________________\n",
      "conv2d_6 (Conv2D)            (None, 25, 25, 256)       590080    \n",
      "_________________________________________________________________\n",
      "activation_6 (Activation)    (None, 25, 25, 256)       0         \n",
      "_________________________________________________________________\n",
      "batch_normalization_6 (Batch (None, 25, 25, 256)       1024      \n",
      "_________________________________________________________________\n",
      "max_pooling2d_3 (MaxPooling2 (None, 12, 12, 256)       0         \n",
      "_________________________________________________________________\n",
      "flatten_1 (Flatten)          (None, 36864)             0         \n",
      "_________________________________________________________________\n",
      "dense_1 (Dense)              (None, 2048)              75499520  \n",
      "_________________________________________________________________\n",
      "activation_7 (Activation)    (None, 2048)              0         \n",
      "_________________________________________________________________\n",
      "batch_normalization_7 (Batch (None, 2048)              8192      \n",
      "_________________________________________________________________\n",
      "dropout_1 (Dropout)          (None, 2048)              0         \n",
      "_________________________________________________________________\n",
      "dense_2 (Dense)              (None, 7)                 14343     \n",
      "=================================================================\n",
      "Total params: 76,669,895\n",
      "Trainable params: 76,664,007\n",
      "Non-trainable params: 5,888\n",
      "_________________________________________________________________\n"
     ]
    }
   ],
   "source": [
    "model = Sequential()\n",
    "\n",
    "model.add(Conv2D(64, (3,3),strides = (1,1), input_shape = (128,128,1),kernel_initializer='glorot_uniform'))\n",
    "\n",
    "model.add(Activation('relu'))\n",
    "\n",
    "model.add(BatchNormalization())\n",
    "\n",
    "model.add(Conv2D(64, (3,3),strides = (1,1),kernel_initializer='glorot_uniform'))\n",
    "\n",
    "model.add(Activation('relu'))\n",
    "\n",
    "model.add(BatchNormalization())\n",
    "\n",
    "model.add(MaxPool2D(pool_size=(2, 2), strides= (2,2)))\n",
    "\n",
    "model.add(Conv2D(128, (3,3),strides = (1,1),kernel_initializer='glorot_uniform'))\n",
    "\n",
    "model.add(Activation('relu'))\n",
    "\n",
    "model.add(BatchNormalization())\n",
    "\n",
    "model.add(Conv2D(128, (3,3),strides = (1,1),kernel_initializer='glorot_uniform'))\n",
    "\n",
    "model.add(Activation('relu'))\n",
    "\n",
    "model.add(BatchNormalization())\n",
    "\n",
    "model.add(MaxPool2D(pool_size=(2, 2), strides= (2,2)))\n",
    "\n",
    "model.add(Conv2D(256, (3,3),strides = (1,1),kernel_initializer='glorot_uniform'))\n",
    "\n",
    "model.add(Activation('relu'))\n",
    "\n",
    "model.add(BatchNormalization())\n",
    "\n",
    "model.add(Conv2D(256, (3,3),strides = (1,1),kernel_initializer='glorot_uniform'))\n",
    "\n",
    "model.add(Activation('relu'))\n",
    "\n",
    "model.add(BatchNormalization())\n",
    "\n",
    "model.add(MaxPool2D(pool_size=(2, 2), strides= (2,2)))\n",
    "\n",
    "model.add(Flatten())\n",
    "\n",
    "model.add(Dense(2048))\n",
    "\n",
    "model.add(Activation('relu'))\n",
    "\n",
    "model.add(BatchNormalization())\n",
    "\n",
    "model.add(Dropout(0.5))\n",
    "\n",
    "model.add(Dense(7, activation='softmax'))\n",
    "\n",
    "model.compile(loss='categorical_crossentropy', optimizer='adam', metrics=['accuracy'])\n",
    "\n",
    "model.summary()"
   ]
  },
  {
   "cell_type": "code",
   "execution_count": 24,
   "metadata": {},
   "outputs": [
    {
     "name": "stdout",
     "output_type": "stream",
     "text": [
      "data/mitdb/100\n",
      "['data/mitdb/100', 'data/mitdb/101']\n"
     ]
    }
   ],
   "source": [
    "paths = get_records()\n",
    "paths1 = []\n",
    "print(paths[0])\n",
    "paths1.append(paths[0])\n",
    "paths1.append(paths[1])\n",
    "print(paths1)"
   ]
  },
  {
   "cell_type": "code",
   "execution_count": 61,
   "metadata": {},
   "outputs": [
    {
     "data": {
      "image/png": "[encoded data removed]",
      "text/plain": [
       "<Figure size 432x288 with 2 Axes>"
      ]
     },
     "metadata": {},
     "output_type": "display_data"
    },
    {
     "data": {
      "text/plain": [
       "(650000, 2)"
      ]
     },
     "metadata": {},
     "output_type": "display_data"
    },
    {
     "ename": "ValueError",
     "evalue": "operands could not be broadcast together with shapes (650000,2) (1300000,) ",
     "output_type": "error",
     "traceback": [
      "\u001b[0;31m---------------------------------------------------------------------------\u001b[0m",
      "\u001b[0;31mValueError\u001b[0m                                Traceback (most recent call last)",
      "\u001b[0;32m<ipython-input-61-5cb4096aee0b>\u001b[0m in \u001b[0;36m<module>\u001b[0;34m()\u001b[0m\n\u001b[1;32m     11\u001b[0m \u001b[0;34m\u001b[0m\u001b[0m\n\u001b[1;32m     12\u001b[0m \u001b[0mdisplay\u001b[0m\u001b[0;34m(\u001b[0m\u001b[0mrecords1\u001b[0m\u001b[0;34m.\u001b[0m\u001b[0mshape\u001b[0m\u001b[0;34m)\u001b[0m\u001b[0;34m\u001b[0m\u001b[0m\n\u001b[0;32m---> 13\u001b[0;31m \u001b[0mh\u001b[0m\u001b[0;34m,\u001b[0m\u001b[0ml\u001b[0m\u001b[0;34m=\u001b[0m\u001b[0mfind_peaks\u001b[0m\u001b[0;34m(\u001b[0m\u001b[0mrecords1\u001b[0m\u001b[0;34m)\u001b[0m\u001b[0;34m\u001b[0m\u001b[0m\n\u001b[0m\u001b[1;32m     14\u001b[0m \u001b[0mprint\u001b[0m\u001b[0;34m(\u001b[0m\u001b[0mh\u001b[0m\u001b[0;34m)\u001b[0m\u001b[0;34m\u001b[0m\u001b[0m\n\u001b[1;32m     15\u001b[0m \u001b[0;31m# good = ['N']\u001b[0m\u001b[0;34m\u001b[0m\u001b[0;34m\u001b[0m\u001b[0m\n",
      "\u001b[0;32m<ipython-input-60-cd56f66ca496>\u001b[0m in \u001b[0;36mfind_peaks\u001b[0;34m(sig)\u001b[0m\n\u001b[1;32m      5\u001b[0m     \u001b[0mtmp\u001b[0m \u001b[0;34m=\u001b[0m \u001b[0msig\u001b[0m\u001b[0;34m[\u001b[0m\u001b[0;36m1\u001b[0m\u001b[0;34m:\u001b[0m\u001b[0;34m]\u001b[0m\u001b[0;34m\u001b[0m\u001b[0m\n\u001b[1;32m      6\u001b[0m     \u001b[0mtmp\u001b[0m \u001b[0;34m=\u001b[0m \u001b[0mnp\u001b[0m\u001b[0;34m.\u001b[0m\u001b[0mappend\u001b[0m\u001b[0;34m(\u001b[0m\u001b[0mtmp\u001b[0m\u001b[0;34m,\u001b[0m \u001b[0;34m[\u001b[0m\u001b[0msig\u001b[0m\u001b[0;34m[\u001b[0m\u001b[0;34m-\u001b[0m\u001b[0;36m1\u001b[0m\u001b[0;34m]\u001b[0m\u001b[0;34m]\u001b[0m\u001b[0;34m)\u001b[0m\u001b[0;34m\u001b[0m\u001b[0m\n\u001b[0;32m----> 7\u001b[0;31m     \u001b[0mtmp\u001b[0m \u001b[0;34m=\u001b[0m \u001b[0msig\u001b[0m \u001b[0;34m-\u001b[0m \u001b[0mtmp\u001b[0m\u001b[0;34m\u001b[0m\u001b[0m\n\u001b[0m\u001b[1;32m      8\u001b[0m     \u001b[0mtmp\u001b[0m\u001b[0;34m[\u001b[0m\u001b[0mnp\u001b[0m\u001b[0;34m.\u001b[0m\u001b[0mwhere\u001b[0m\u001b[0;34m(\u001b[0m\u001b[0mtmp\u001b[0m\u001b[0;34m>\u001b[0m\u001b[0;36m0\u001b[0m\u001b[0;34m)\u001b[0m\u001b[0;34m]\u001b[0m \u001b[0;34m=\u001b[0m \u001b[0;36m1\u001b[0m\u001b[0;34m\u001b[0m\u001b[0m\n\u001b[1;32m      9\u001b[0m     \u001b[0mtmp\u001b[0m\u001b[0;34m[\u001b[0m\u001b[0mnp\u001b[0m\u001b[0;34m.\u001b[0m\u001b[0mwhere\u001b[0m\u001b[0;34m(\u001b[0m\u001b[0mtmp\u001b[0m\u001b[0;34m==\u001b[0m\u001b[0;36m0\u001b[0m\u001b[0;34m)\u001b[0m\u001b[0;34m]\u001b[0m \u001b[0;34m=\u001b[0m \u001b[0;36m0\u001b[0m\u001b[0;34m\u001b[0m\u001b[0m\n",
      "\u001b[0;31mValueError\u001b[0m: operands could not be broadcast together with shapes (650000,2) (1300000,) "
     ]
    }
   ],
   "source": [
    "e = 'data/mitdb/100'\n",
    "record = wfdb.rdrecord(e) \n",
    "\n",
    "ann = wfdb.rdann(e, 'atr')\n",
    "wfdb.plot_wfdb(record=record, annotation=ann,\n",
    "       title='Record 100 from MIT-BIH Arrhythmia Database',\n",
    "       time_units='seconds')\n",
    "records1 = record.p_signal\n",
    "\n",
    "\n",
    "\n",
    "display(records1.shape)\n",
    "h,l=find_peaks(records1)\n",
    "print(h)\n",
    "# good = ['N']\n",
    "# ids = np.in1d(ann.symbol, good)\n",
    "# imp_beats = ann.sample[ids]\n",
    "# beats = (ann.sample)\n",
    "# Normal = []\n",
    "# for i in imp_beats:\n",
    "#     beats = list(beats)\n",
    "#     j = beats.index(i)\n",
    "#     if(j!=0 and j!=(len(beats)-1)):\n",
    "#         x = beats[j-1]\n",
    "#         y = beats[j+1]\n",
    "#         diff1 = abs(x - beats[j])//2\n",
    "#         diff2 = abs(y - beats[j])//2\n",
    "#         Normal.append(records1[beats[j] - diff1: beats[j] + diff2, 0])\n",
    "\n",
    "# with open('my_file.txt', 'w') as f:\n",
    "#     for l in Normal[0]:\n",
    "        \n",
    "#         f.write(str(l)+'\\n')\n",
    "# print(Normal)\n",
    "# print(data)\n",
    "# signals = []\n",
    "# count = 1\n",
    "# peaks =  biosppy.signals.ecg.christov_segmenter(signal=data, sampling_rate = 200)[0]\n",
    "# for i in (peaks[1:-1]):\n",
    "#     diff1 = abs(peaks[count - 1] - i)\n",
    "#     diff2 = abs(peaks[count + 1]- i)\n",
    "#     x = peaks[count - 1] + diff1//2\n",
    "#     y = peaks[count + 1] - diff2//2\n",
    "#     signal = data[x:y]\n",
    "#     signals.append(signal)\n",
    "#     count += 1"
   ]
  },
  {
   "cell_type": "code",
   "execution_count": 31,
   "metadata": {},
   "outputs": [
    {
     "data": {
      "text/plain": [
       "array([-0.26 , -0.265, -0.275, -0.305, -0.32 , -0.33 , -0.32 , -0.32 ,\n",
       "       -0.315, -0.34 , -0.35 , -0.335, -0.32 , -0.31 , -0.335, -0.345,\n",
       "       -0.35 , -0.35 , -0.355, -0.35 , -0.35 , -0.37 , -0.36 , -0.345,\n",
       "       -0.325, -0.325, -0.335, -0.37 , -0.4  , -0.4  , -0.395, -0.35 ,\n",
       "       -0.21 , -0.01 ,  0.245,  0.53 ,  0.85 ,  1.085,  1.065,  0.815,\n",
       "        0.48 ,  0.21 , -0.01 , -0.145, -0.185, -0.24 , -0.285, -0.285,\n",
       "       -0.285, -0.29 , -0.3  , -0.335, -0.36 , -0.36 , -0.385, -0.395,\n",
       "       -0.415, -0.43 , -0.435, -0.405, -0.41 , -0.405, -0.415, -0.44 ,\n",
       "       -0.43 , -0.415, -0.42 , -0.415, -0.42 , -0.43 , -0.44 , -0.425,\n",
       "       -0.415, -0.425, -0.43 , -0.425, -0.415, -0.42 , -0.415, -0.42 ,\n",
       "       -0.42 , -0.435, -0.415, -0.415, -0.4  , -0.395, -0.41 , -0.425,\n",
       "       -0.415, -0.405, -0.395, -0.4  , -0.41 , -0.42 , -0.41 , -0.395,\n",
       "       -0.38 , -0.39 , -0.4  , -0.415, -0.42 , -0.385, -0.375, -0.38 ,\n",
       "       -0.375, -0.365, -0.35 , -0.35 , -0.35 , -0.34 , -0.35 , -0.35 ,\n",
       "       -0.325, -0.32 , -0.31 , -0.31 , -0.31 , -0.305, -0.285, -0.27 ,\n",
       "       -0.265, -0.265, -0.255, -0.24 , -0.22 , -0.21 , -0.205, -0.19 ,\n",
       "       -0.175, -0.175, -0.165, -0.155, -0.145, -0.13 , -0.125, -0.135,\n",
       "       -0.125, -0.11 , -0.09 , -0.105, -0.12 , -0.12 , -0.12 , -0.11 ,\n",
       "       -0.11 , -0.13 , -0.16 , -0.165, -0.17 , -0.17 , -0.18 , -0.205,\n",
       "       -0.225, -0.235, -0.245, -0.25 , -0.255, -0.265, -0.275, -0.285,\n",
       "       -0.295, -0.29 , -0.305, -0.315, -0.33 , -0.34 , -0.325, -0.325,\n",
       "       -0.315, -0.31 , -0.335, -0.355, -0.355, -0.365, -0.345, -0.345,\n",
       "       -0.33 , -0.35 , -0.355, -0.34 , -0.345, -0.345, -0.35 , -0.35 ,\n",
       "       -0.35 , -0.345, -0.33 , -0.34 , -0.35 , -0.36 , -0.35 , -0.34 ,\n",
       "       -0.33 , -0.32 ])"
      ]
     },
     "execution_count": 31,
     "metadata": {},
     "output_type": "execute_result"
    }
   ],
   "source": [
    "Normal[0]"
   ]
  },
  {
   "cell_type": "code",
   "execution_count": 25,
   "metadata": {
    "scrolled": true
   },
   "outputs": [
    {
     "ename": "ValueError",
     "evalue": "The truth value of an array with more than one element is ambiguous. Use a.any() or a.all()",
     "output_type": "error",
     "traceback": [
      "\u001b[0;31m---------------------------------------------------------------------------\u001b[0m",
      "\u001b[0;31mValueError\u001b[0m                                Traceback (most recent call last)",
      "\u001b[0;32m<ipython-input-25-7e6cebe18d44>\u001b[0m in \u001b[0;36m<module>\u001b[0;34m()\u001b[0m\n\u001b[0;32m----> 1\u001b[0;31m \u001b[0mnormal\u001b[0m \u001b[0;34m=\u001b[0m \u001b[0msegmentation\u001b[0m\u001b[0;34m(\u001b[0m\u001b[0mpaths1\u001b[0m\u001b[0;34m)\u001b[0m\u001b[0;34m\u001b[0m\u001b[0m\n\u001b[0m\u001b[1;32m      2\u001b[0m \u001b[0;34m\u001b[0m\u001b[0m\n\u001b[1;32m      3\u001b[0m \u001b[0;31m# for l in normal:\u001b[0m\u001b[0;34m\u001b[0m\u001b[0;34m\u001b[0m\u001b[0m\n\u001b[1;32m      4\u001b[0m \u001b[0;31m#     with open('your_file.txt', 'w') as f:\u001b[0m\u001b[0;34m\u001b[0m\u001b[0;34m\u001b[0m\u001b[0m\n\u001b[1;32m      5\u001b[0m \u001b[0;31m#         for item in l:\u001b[0m\u001b[0;34m\u001b[0m\u001b[0;34m\u001b[0m\u001b[0m\n",
      "\u001b[0;32m<ipython-input-18-e7d3db8a3a92>\u001b[0m in \u001b[0;36msegmentation\u001b[0;34m(records)\u001b[0m\n\u001b[1;32m     24\u001b[0m         wfdb.plot_wfdb(record=signals, annotation=ann,\n\u001b[1;32m     25\u001b[0m                \u001b[0mtitle\u001b[0m\u001b[0;34m=\u001b[0m\u001b[0;34m'Record 100 from MIT-BIH Arrhythmia Database'\u001b[0m\u001b[0;34m,\u001b[0m\u001b[0;34m\u001b[0m\u001b[0m\n\u001b[0;32m---> 26\u001b[0;31m                time_units='seconds')\n\u001b[0m\u001b[1;32m     27\u001b[0m         \u001b[0mgood\u001b[0m \u001b[0;34m=\u001b[0m \u001b[0;34m[\u001b[0m\u001b[0;34m'N'\u001b[0m\u001b[0;34m]\u001b[0m\u001b[0;34m\u001b[0m\u001b[0m\n\u001b[1;32m     28\u001b[0m         \u001b[0mids\u001b[0m \u001b[0;34m=\u001b[0m \u001b[0mnp\u001b[0m\u001b[0;34m.\u001b[0m\u001b[0min1d\u001b[0m\u001b[0;34m(\u001b[0m\u001b[0mann\u001b[0m\u001b[0;34m.\u001b[0m\u001b[0msymbol\u001b[0m\u001b[0;34m,\u001b[0m \u001b[0mgood\u001b[0m\u001b[0;34m)\u001b[0m\u001b[0;34m\u001b[0m\u001b[0m\n",
      "\u001b[0;32m~/anaconda3/lib/python3.6/site-packages/wfdb/plot/plot.py\u001b[0m in \u001b[0;36mplot_wfdb\u001b[0;34m(record, annotation, plot_sym, time_units, title, sig_style, ann_style, ecg_grids, figsize, return_fig)\u001b[0m\n\u001b[1;32m    405\u001b[0m         \u001b[0mylabel\u001b[0m\u001b[0;34m,\u001b[0m \u001b[0mrecord_name\u001b[0m\u001b[0;34m)\u001b[0m \u001b[0;34m=\u001b[0m \u001b[0mget_wfdb_plot_items\u001b[0m\u001b[0;34m(\u001b[0m\u001b[0mrecord\u001b[0m\u001b[0;34m=\u001b[0m\u001b[0mrecord\u001b[0m\u001b[0;34m,\u001b[0m\u001b[0;34m\u001b[0m\u001b[0m\n\u001b[1;32m    406\u001b[0m                                                    \u001b[0mannotation\u001b[0m\u001b[0;34m=\u001b[0m\u001b[0mannotation\u001b[0m\u001b[0;34m,\u001b[0m\u001b[0;34m\u001b[0m\u001b[0m\n\u001b[0;32m--> 407\u001b[0;31m                                                    plot_sym=plot_sym)\n\u001b[0m\u001b[1;32m    408\u001b[0m \u001b[0;34m\u001b[0m\u001b[0m\n\u001b[1;32m    409\u001b[0m     return plot_items(signal=signal, ann_samp=ann_samp, ann_sym=ann_sym, fs=fs,\n",
      "\u001b[0;32m~/anaconda3/lib/python3.6/site-packages/wfdb/plot/plot.py\u001b[0m in \u001b[0;36mget_wfdb_plot_items\u001b[0;34m(record, annotation, plot_sym)\u001b[0m\n\u001b[1;32m    420\u001b[0m     \"\"\"\n\u001b[1;32m    421\u001b[0m     \u001b[0;31m# Get record attributes\u001b[0m\u001b[0;34m\u001b[0m\u001b[0;34m\u001b[0m\u001b[0m\n\u001b[0;32m--> 422\u001b[0;31m     \u001b[0;32mif\u001b[0m \u001b[0mrecord\u001b[0m\u001b[0;34m:\u001b[0m\u001b[0;34m\u001b[0m\u001b[0m\n\u001b[0m\u001b[1;32m    423\u001b[0m         \u001b[0;32mif\u001b[0m \u001b[0mrecord\u001b[0m\u001b[0;34m.\u001b[0m\u001b[0mp_signal\u001b[0m \u001b[0;32mis\u001b[0m \u001b[0;32mnot\u001b[0m \u001b[0;32mNone\u001b[0m\u001b[0;34m:\u001b[0m\u001b[0;34m\u001b[0m\u001b[0m\n\u001b[1;32m    424\u001b[0m             \u001b[0msignal\u001b[0m \u001b[0;34m=\u001b[0m \u001b[0mrecord\u001b[0m\u001b[0;34m.\u001b[0m\u001b[0mp_signal\u001b[0m\u001b[0;34m\u001b[0m\u001b[0m\n",
      "\u001b[0;31mValueError\u001b[0m: The truth value of an array with more than one element is ambiguous. Use a.any() or a.all()"
     ]
    }
   ],
   "source": [
    "normal = segmentation(paths1)\n",
    "\n",
    "# for l in normal:\n",
    "#     with open('your_file.txt', 'w') as f:\n",
    "#         for item in l:\n",
    "#             f.write(\"%s\\n\" % item)\n",
    "#     break"
   ]
  },
  {
   "cell_type": "code",
   "execution_count": 14,
   "metadata": {},
   "outputs": [
    {
     "ename": "ValueError",
     "evalue": "cannot resize this array: it does not own its data",
     "output_type": "error",
     "traceback": [
      "\u001b[0;31m---------------------------------------------------------------------------\u001b[0m",
      "\u001b[0;31mValueError\u001b[0m                                Traceback (most recent call last)",
      "\u001b[0;32m<ipython-input-14-62c425d6fcaa>\u001b[0m in \u001b[0;36m<module>\u001b[0;34m()\u001b[0m\n\u001b[1;32m      2\u001b[0m \u001b[0mnorm\u001b[0m \u001b[0;34m=\u001b[0m \u001b[0mnp\u001b[0m\u001b[0;34m.\u001b[0m\u001b[0marray\u001b[0m\u001b[0;34m(\u001b[0m\u001b[0mnormal\u001b[0m\u001b[0;34m)\u001b[0m\u001b[0;34m\u001b[0m\u001b[0m\n\u001b[1;32m      3\u001b[0m \u001b[0;32mfor\u001b[0m \u001b[0ml\u001b[0m \u001b[0;32min\u001b[0m \u001b[0mnormal\u001b[0m\u001b[0;34m:\u001b[0m\u001b[0;34m\u001b[0m\u001b[0m\n\u001b[0;32m----> 4\u001b[0;31m     \u001b[0mtemp\u001b[0m \u001b[0;34m=\u001b[0m \u001b[0ml\u001b[0m\u001b[0;34m.\u001b[0m\u001b[0mresize\u001b[0m\u001b[0;34m(\u001b[0m\u001b[0;36m70\u001b[0m\u001b[0;34m,\u001b[0m\u001b[0;36m70\u001b[0m\u001b[0;34m)\u001b[0m\u001b[0;34m\u001b[0m\u001b[0m\n\u001b[0m\u001b[1;32m      5\u001b[0m     \u001b[0ma\u001b[0m\u001b[0;34m.\u001b[0m\u001b[0mappend\u001b[0m\u001b[0;34m(\u001b[0m\u001b[0mtemp\u001b[0m\u001b[0;34m)\u001b[0m\u001b[0;34m\u001b[0m\u001b[0m\n",
      "\u001b[0;31mValueError\u001b[0m: cannot resize this array: it does not own its data"
     ]
    }
   ],
   "source": [
    "temp = []\n",
    "norm = np.array(normal)\n",
    "for l in normal:\n",
    "    temp = l.reshape(70,70)\n",
    "    a.append(temp)"
   ]
  },
  {
   "cell_type": "code",
   "execution_count": 44,
   "metadata": {},
   "outputs": [],
   "source": [
    "csv_data = pd.read_csv('sample.csv')"
   ]
  },
  {
   "cell_type": "code",
   "execution_count": 10,
   "metadata": {},
   "outputs": [],
   "source": [
    "img = cv2.imread(\"data/0.png\")"
   ]
  },
  {
   "cell_type": "code",
   "execution_count": 11,
   "metadata": {},
   "outputs": [],
   "source": [
    "cropping(img,\"break\")"
   ]
  },
  {
   "cell_type": "code",
   "execution_count": 12,
   "metadata": {},
   "outputs": [],
   "source": [
    "director = \"img\"\n",
    "temp_list = []\n",
    "for l in os.listdir(director):\n",
    "    temp_array = cv2.imread(os.path.join(director,l),cv2.IMREAD_GRAYSCALE)\n",
    "    temp_list.append(temp_array)"
   ]
  },
  {
   "cell_type": "code",
   "execution_count": 13,
   "metadata": {},
   "outputs": [],
   "source": [
    "img_array = np.array(temp_list).reshape(-1,128,128,1)"
   ]
  },
  {
   "cell_type": "code",
   "execution_count": 14,
   "metadata": {},
   "outputs": [
    {
     "data": {
      "text/plain": [
       "(8, 128, 128, 1)"
      ]
     },
     "execution_count": 14,
     "metadata": {},
     "output_type": "execute_result"
    }
   ],
   "source": [
    "img_array.shape"
   ]
  },
  {
   "cell_type": "code",
   "execution_count": null,
   "metadata": {},
   "outputs": [],
   "source": []
  },
  {
   "cell_type": "code",
   "execution_count": 21,
   "metadata": {},
   "outputs": [
    {
     "ename": "AttributeError",
     "evalue": "'numpy.ndarray' object has no attribute 'keys'",
     "output_type": "error",
     "traceback": [
      "\u001b[0;31m---------------------------------------------------------------------------\u001b[0m",
      "\u001b[0;31mAttributeError\u001b[0m                            Traceback (most recent call last)",
      "\u001b[0;32m<ipython-input-21-8aa66dfe9b03>\u001b[0m in \u001b[0;36m<module>\u001b[0;34m()\u001b[0m\n\u001b[0;32m----> 1\u001b[0;31m \u001b[0marray\u001b[0m\u001b[0;34m.\u001b[0m\u001b[0mkeys\u001b[0m\u001b[0;34m(\u001b[0m\u001b[0;34m)\u001b[0m\u001b[0;34m\u001b[0m\u001b[0m\n\u001b[0m",
      "\u001b[0;31mAttributeError\u001b[0m: 'numpy.ndarray' object has no attribute 'keys'"
     ]
    }
   ],
   "source": []
  },
  {
   "cell_type": "code",
   "execution_count": null,
   "metadata": {},
   "outputs": [],
   "source": []
  },
  {
   "cell_type": "code",
   "execution_count": null,
   "metadata": {},
   "outputs": [],
   "source": []
  },
  {
   "cell_type": "code",
   "execution_count": null,
   "metadata": {},
   "outputs": [],
   "source": []
  },
  {
   "cell_type": "code",
   "execution_count": null,
   "metadata": {},
   "outputs": [],
   "source": []
  }
 ],
 "metadata": {
  "kernelspec": {
   "display_name": "Python 3",
   "language": "python",
   "name": "python3"
  },
  "language_info": {
   "codemirror_mode": {
    "name": "ipython",
    "version": 3
   },
   "file_extension": ".py",
   "mimetype": "text/x-python",
   "name": "python",
   "nbconvert_exporter": "python",
   "pygments_lexer": "ipython3",
   "version": "3.6.5"
  }
 },
 "nbformat": 4,
 "nbformat_minor": 2
}
